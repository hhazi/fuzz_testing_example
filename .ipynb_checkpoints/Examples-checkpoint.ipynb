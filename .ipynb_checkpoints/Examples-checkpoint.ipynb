{
 "cells": [
  {
   "cell_type": "code",
   "execution_count": null,
   "metadata": {},
   "outputs": [],
   "source": [
    "def test_simple_sort_list_of_ints():\n",
    "    ints = [1, 5, 4, 3, 2]\n",
    "    print(ints)\n",
    "\n",
    "    result = sorted(ints)\n",
    "\n",
    "    assert result == [1, 2, 3, 4, 5]\n",
    "    \n",
    "test_simple_sort_list_of_ints()"
   ]
  },
  {
   "cell_type": "code",
   "execution_count": null,
   "metadata": {},
   "outputs": [],
   "source": [
    "import random\n",
    "\n",
    "\n",
    "def test_sort_list_of_ints():\n",
    "    ints = [random.randint(-1000, 1000) for _ in range(2, 100)]  # Different each time\n",
    "    print(ints)\n",
    "    result = sorted(ints)\n",
    "    assert all(x <= y for x, y in zip(result, result[1:]))\n",
    "\n",
    "    \n",
    "test_sort_list_of_ints()"
   ]
  },
  {
   "cell_type": "code",
   "execution_count": null,
   "metadata": {},
   "outputs": [],
   "source": [
    "import hypothesis\n",
    "\n",
    "from hypothesis import strategies as st\n",
    "\n",
    "\n",
    "@hypothesis.given(st.lists(st.integers(), min_size=2))\n",
    "def test_sort_list_of_generated_ints(generated_ints):\n",
    "    print(generated_ints)\n",
    "    result = sorted(generated_ints)\n",
    "    assert all(x <= y for x, y in zip(result, result[1:]))\n",
    "    \n",
    "\n",
    "test_sort_list_of_generated_ints()"
   ]
  },
  {
   "cell_type": "code",
   "execution_count": null,
   "metadata": {},
   "outputs": [],
   "source": []
  }
 ],
 "metadata": {
  "kernelspec": {
   "display_name": "Python 2",
   "language": "python",
   "name": "python2"
  },
  "language_info": {
   "codemirror_mode": {
    "name": "ipython",
    "version": 2
   },
   "file_extension": ".py",
   "mimetype": "text/x-python",
   "name": "python",
   "nbconvert_exporter": "python",
   "pygments_lexer": "ipython2",
   "version": "2.7.15"
  }
 },
 "nbformat": 4,
 "nbformat_minor": 2
}
